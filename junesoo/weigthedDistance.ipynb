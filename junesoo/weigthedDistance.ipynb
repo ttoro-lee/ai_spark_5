{
 "cells": [
  {
   "cell_type": "code",
   "execution_count": 1,
   "metadata": {},
   "outputs": [],
   "source": [
    "import os\n",
    "import pandas as pd\n",
    "import numpy as np\n",
    "from haversine import haversine\n",
    "\n",
    "TRAIN_PATH = 'C:/Users/js/Desktop/AISPRAK/사회문제 해결형/data/TRAIN/'\n",
    "TRAIN_AWS_PATH = 'C:/Users/js/Desktop/AISPRAK/사회문제 해결형/data/TRAIN_AWS/'\n",
    "META_AWS_PATH = 'C:/Users/js/Desktop/AISPRAK/사회문제 해결형/data/META/awsmap.csv'\n",
    "META_PM_PATH = 'C:/Users/js/Desktop/AISPRAK/사회문제 해결형/data/META/pmmap.csv'"
   ]
  },
  {
   "cell_type": "code",
   "execution_count": 2,
   "metadata": {},
   "outputs": [
    {
     "name": "stdout",
     "output_type": "stream",
     "text": [
      "17\n",
      "30\n"
     ]
    }
   ],
   "source": [
    "print(len(os.listdir(TRAIN_PATH)))\n",
    "print(len(os.listdir(TRAIN_AWS_PATH)))"
   ]
  },
  {
   "cell_type": "code",
   "execution_count": 3,
   "metadata": {},
   "outputs": [
    {
     "data": {
      "text/plain": [
       "((30, 4), (17, 4))"
      ]
     },
     "execution_count": 3,
     "metadata": {},
     "output_type": "execute_result"
    }
   ],
   "source": [
    "df_meta_aws = pd.read_csv(META_AWS_PATH)\n",
    "df_meta_pm = pd.read_csv(META_PM_PATH)\n",
    "\n",
    "df_meta_aws.rename(columns={'Location':'Location_aws', 'Latitude':'Latitude_aws', 'Longitude':'Longitude_aws', 'Description':'Description_aws'}, inplace= True)\n",
    "df_meta_pm.rename(columns={'Location':'Location_pm', 'Latitude':'Latitude_pm', 'Longitude':'Longitude_pm', 'Description':'Description_pm'}, inplace= True)\n",
    "\n",
    "df_meta_aws.shape, df_meta_pm.shape"
   ]
  },
  {
   "cell_type": "code",
   "execution_count": 4,
   "metadata": {},
   "outputs": [
    {
     "data": {
      "text/plain": [
       "(510, 8)"
      ]
     },
     "execution_count": 4,
     "metadata": {},
     "output_type": "execute_result"
    }
   ],
   "source": [
    "merged_df = pd.merge(df_meta_pm,df_meta_aws,how='cross')\n",
    "merged_df.shape"
   ]
  },
  {
   "cell_type": "code",
   "execution_count": 5,
   "metadata": {},
   "outputs": [
    {
     "data": {
      "text/html": [
       "<div>\n",
       "<style scoped>\n",
       "    .dataframe tbody tr th:only-of-type {\n",
       "        vertical-align: middle;\n",
       "    }\n",
       "\n",
       "    .dataframe tbody tr th {\n",
       "        vertical-align: top;\n",
       "    }\n",
       "\n",
       "    .dataframe thead th {\n",
       "        text-align: right;\n",
       "    }\n",
       "</style>\n",
       "<table border=\"1\" class=\"dataframe\">\n",
       "  <thead>\n",
       "    <tr style=\"text-align: right;\">\n",
       "      <th></th>\n",
       "      <th>Latitude_pm</th>\n",
       "      <th>Longitude_pm</th>\n",
       "      <th>Latitude_aws</th>\n",
       "      <th>Longitude_aws</th>\n",
       "    </tr>\n",
       "  </thead>\n",
       "  <tbody>\n",
       "    <tr>\n",
       "      <th>count</th>\n",
       "      <td>510.000000</td>\n",
       "      <td>510.000000</td>\n",
       "      <td>510.000000</td>\n",
       "      <td>510.000000</td>\n",
       "    </tr>\n",
       "    <tr>\n",
       "      <th>mean</th>\n",
       "      <td>36.575567</td>\n",
       "      <td>126.987315</td>\n",
       "      <td>36.523330</td>\n",
       "      <td>126.813013</td>\n",
       "    </tr>\n",
       "    <tr>\n",
       "      <th>std</th>\n",
       "      <td>0.230473</td>\n",
       "      <td>0.367956</td>\n",
       "      <td>0.246121</td>\n",
       "      <td>0.460106</td>\n",
       "    </tr>\n",
       "    <tr>\n",
       "      <th>min</th>\n",
       "      <td>36.199217</td>\n",
       "      <td>126.280501</td>\n",
       "      <td>36.062500</td>\n",
       "      <td>125.559500</td>\n",
       "    </tr>\n",
       "    <tr>\n",
       "      <th>25%</th>\n",
       "      <td>36.368242</td>\n",
       "      <td>126.655087</td>\n",
       "      <td>36.324400</td>\n",
       "      <td>126.502100</td>\n",
       "    </tr>\n",
       "    <tr>\n",
       "      <th>50%</th>\n",
       "      <td>36.592887</td>\n",
       "      <td>127.119209</td>\n",
       "      <td>36.525750</td>\n",
       "      <td>126.862800</td>\n",
       "    </tr>\n",
       "    <tr>\n",
       "      <th>75%</th>\n",
       "      <td>36.782355</td>\n",
       "      <td>127.292550</td>\n",
       "      <td>36.690800</td>\n",
       "      <td>127.200500</td>\n",
       "    </tr>\n",
       "    <tr>\n",
       "      <th>max</th>\n",
       "      <td>36.987579</td>\n",
       "      <td>127.437825</td>\n",
       "      <td>37.010600</td>\n",
       "      <td>127.493800</td>\n",
       "    </tr>\n",
       "  </tbody>\n",
       "</table>\n",
       "</div>"
      ],
      "text/plain": [
       "       Latitude_pm  Longitude_pm  Latitude_aws  Longitude_aws\n",
       "count   510.000000    510.000000    510.000000     510.000000\n",
       "mean     36.575567    126.987315     36.523330     126.813013\n",
       "std       0.230473      0.367956      0.246121       0.460106\n",
       "min      36.199217    126.280501     36.062500     125.559500\n",
       "25%      36.368242    126.655087     36.324400     126.502100\n",
       "50%      36.592887    127.119209     36.525750     126.862800\n",
       "75%      36.782355    127.292550     36.690800     127.200500\n",
       "max      36.987579    127.437825     37.010600     127.493800"
      ]
     },
     "execution_count": 5,
     "metadata": {},
     "output_type": "execute_result"
    }
   ],
   "source": [
    "merged_df.describe()"
   ]
  },
  {
   "cell_type": "code",
   "execution_count": 6,
   "metadata": {},
   "outputs": [],
   "source": [
    "merged_df['id'] = merged_df['Location_pm'] + '_' + merged_df['Location_aws']\n",
    "\n",
    "# 유클리디안\n",
    "# merged_df['distance'] = ((merged_df['Latitude_pm'] - merged_df['Longitude_pm'])**2 + (merged_df['Latitude_aws'] - merged_df['Longitude_aws'])**2)**(1/2)\n",
    "\n",
    "# Haversine : haversine( (row, row), (row, row) )\n",
    "# 속도 비교 글 https://lamttic.github.io/2020/03/11/01.html\n",
    "\n",
    "merged_df['distance'] = merged_df.apply(lambda row : haversine( (row['Latitude_pm'], row['Longitude_pm']) , (row['Latitude_aws'], row['Longitude_aws'])) , axis=1)\n"
   ]
  },
  {
   "cell_type": "code",
   "execution_count": 7,
   "metadata": {},
   "outputs": [],
   "source": [
    "def set_train_dataset(train_df_name,merged_df):\n",
    "\n",
    "    col_lst = ['temp','wind_direction','wind_speed','rain','humid']\n",
    "\n",
    "    df = pd.read_csv(TRAIN_PATH+train_df_name+'.csv')\n",
    "    df.rename(columns={'연도':'Date', '일시':'Time','측정소':'Place'},inplace=True)\n",
    "    df[col_lst] = 0\n",
    "    distance_sum = 0\n",
    "\n",
    "\n",
    "\n",
    "    for aws in os.listdir(TRAIN_AWS_PATH):\n",
    "        temp_df = pd.read_csv(TRAIN_AWS_PATH+aws)\n",
    "        temp_df.rename(columns={'기온(°C)':'temp','풍향(deg)':'wind_direction','풍속(m/s)':'wind_speed','강수량(mm)':'rain','습도(%)':'humid'},inplace=True)\n",
    "\n",
    "        distance = merged_df[(merged_df.Location_aws==aws.split('.')[0]) & (merged_df.Location_pm==train_df_name)].distance.values[0]\n",
    "\n",
    "        distance_sum += distance\n",
    "        df[col_lst] = df[col_lst].add(temp_df[col_lst]*distance)\n",
    "    \n",
    "    df[col_lst] /= distance_sum\n",
    "\n",
    "    return df"
   ]
  },
  {
   "cell_type": "code",
   "execution_count": 9,
   "metadata": {},
   "outputs": [
    {
     "name": "stdout",
     "output_type": "stream",
     "text": [
      "17\n"
     ]
    }
   ],
   "source": [
    "pm_lst = ['공주','노은동','논산','대천2동','독곶리','동문동','모종동','문창동','성성동','신방동','신흥동','아름동','예산군','읍내동','이원면','정림동','홍성읍']\n",
    "print(len(pm_lst))"
   ]
  },
  {
   "cell_type": "code",
   "execution_count": 10,
   "metadata": {},
   "outputs": [
    {
     "data": {
      "text/plain": [
       "(596088, 9)"
      ]
     },
     "execution_count": 10,
     "metadata": {},
     "output_type": "execute_result"
    }
   ],
   "source": [
    "df = set_train_dataset('공주',merged_df)\n",
    "\n",
    "for pm in pm_lst[1:]:\n",
    "    temp = set_train_dataset(pm,merged_df)\n",
    "    df = pd.concat([df,temp])\n",
    "\n",
    "df.shape"
   ]
  },
  {
   "cell_type": "code",
   "execution_count": null,
   "metadata": {},
   "outputs": [],
   "source": []
  },
  {
   "cell_type": "code",
   "execution_count": null,
   "metadata": {},
   "outputs": [],
   "source": []
  },
  {
   "cell_type": "code",
   "execution_count": null,
   "metadata": {},
   "outputs": [],
   "source": []
  },
  {
   "cell_type": "code",
   "execution_count": null,
   "metadata": {},
   "outputs": [],
   "source": []
  },
  {
   "cell_type": "code",
   "execution_count": null,
   "metadata": {},
   "outputs": [],
   "source": []
  },
  {
   "cell_type": "code",
   "execution_count": null,
   "metadata": {},
   "outputs": [],
   "source": []
  }
 ],
 "metadata": {
  "kernelspec": {
   "display_name": "Python 3",
   "language": "python",
   "name": "python3"
  },
  "language_info": {
   "codemirror_mode": {
    "name": "ipython",
    "version": 3
   },
   "file_extension": ".py",
   "mimetype": "text/x-python",
   "name": "python",
   "nbconvert_exporter": "python",
   "pygments_lexer": "ipython3",
   "version": "3.10.7"
  },
  "orig_nbformat": 4
 },
 "nbformat": 4,
 "nbformat_minor": 2
}
