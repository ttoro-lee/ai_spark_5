{
 "cells": [
  {
   "cell_type": "code",
   "execution_count": null,
   "metadata": {},
   "outputs": [],
   "source": [
    "import os\n",
    "import pandas as pd\n",
    "import numpy as np\n",
    "\n",
    "TEST_PATH = 'C:/Users/js/Desktop/AISPRAK/사회문제 해결형/data/TEST_INPUT/'\n",
    "\n",
    "TEST_AWS_PATH = 'C:/Users/js/Desktop/AISPRAK/사회문제 해결형/data/TEST_AWS/'\n",
    "\n",
    "TEST_MERGE = 'C:/Users/js/Desktop/AISPRAK/사회문제 해결형/data/TEST_MERGE/'"
   ]
  },
  {
   "cell_type": "code",
   "execution_count": null,
   "metadata": {},
   "outputs": [],
   "source": [
    "one2one_col = {'정림동' : '오월드', '문창동' : '오월드',  '읍내동' : '장동',  '노은동' : '계룡',  '아름동' : '세종고운',\n",
    "                '신흥동' : '세종연서',  '공주' : '공주',  '논산' : '논산',  '대천2동' : '대천항',  '홍성읍' : '홍북',\n",
    "                '예산군' : '예산',  '모종동' : '아산',  '신방동' : '성거',  '성성동' : '성거',  '동문동' : '태안',\n",
    "                '이원면' : '안도',  '독곶리' : '대산'}"
   ]
  },
  {
   "cell_type": "code",
   "execution_count": null,
   "metadata": {},
   "outputs": [],
   "source": [
    "for train in os.listdir(TEST_PATH):\n",
    "\n",
    "    df = pd.read_csv(TEST_PATH+train)\n",
    "    df.rename(columns={'연도': 'year', '일시' : 'date', \"측정소\": 'place'},inplace=True)\n",
    "    df['year'] += 2001\n",
    "    df['date'] = df['year'].astype('str') + \"-\" + df['date'].astype('str')\n",
    "    df['year'] = df['year'].astype('object')\n",
    "    \n",
    "    merge_df = pd.read_csv(TEST_AWS_PATH+one2one_col[train.split('.')[0]]+'.csv')\n",
    "    merge_df.rename(columns={'연도': 'year', '일시' : 'date', \"지점\": 'place','기온(°C)':'temp','풍향(deg)':'wind_direction','풍속(m/s)':'wind_speed','강수량(mm)':'rain','습도(%)':'humid'},inplace=True)\n",
    "    merge_df['year'] += 2001\n",
    "    merge_df['date'] = merge_df['year'].astype('str') + \"-\" + merge_df['date'].astype('str')\n",
    "    merge_df['year'] = merge_df['year'].astype('object')\n",
    "\n",
    "    merged_df = pd.merge(df,merge_df,how='inner',on='date')\n",
    "\n",
    "    merged_df.to_csv(TEST_MERGE+train,index=False)"
   ]
  },
  {
   "cell_type": "code",
   "execution_count": null,
   "metadata": {},
   "outputs": [],
   "source": [
    "final_merged_df = pd.DataFrame()\n",
    "\n",
    "for lst in os.listdir(TEST_MERGE):\n",
    "    df = pd.read_csv(TEST_MERGE+lst)\n",
    "    df.drop(['year_x','place_y','year_y'],inplace=True,axis=1)\n",
    "    df.rename(columns={'place_x':'place'},inplace=True)\n",
    "\n",
    "    final_merged_df = pd.concat([final_merged_df,df])\n",
    "\n",
    "final_merged_df['date'] = pd.to_datetime(final_merged_df['date'], format='%Y-%m-%d %H:%M')\n",
    "final_merged_df['month'] = final_merged_df['date'].dt.month\n",
    "# final_merged_df['day'] = final_merged_df['date'].dt.day\n",
    "# final_merged_df['hour'] = final_merged_df['date'].dt.hour\n",
    "\n",
    "final_merged_df = pd.get_dummies(data = final_merged_df, columns=['place','month'])\n",
    "final_merged_df.to_csv(TEST_MERGE+'final_merged.csv',index=False)"
   ]
  },
  {
   "cell_type": "code",
   "execution_count": null,
   "metadata": {},
   "outputs": [],
   "source": [
    "place_lst = [\n",
    "    '공주',\n",
    "    '노은동',\n",
    "    '논산',\n",
    "    '대천2동',\n",
    "    '독곶리',\n",
    "    '동문동',\n",
    "    '모종동',\n",
    "    '문창동',\n",
    "    '성성동',\n",
    "    '신방동',\n",
    "    '신흥동',\n",
    "    '아름동',\n",
    "    '예산군',\n",
    "    '읍내동',\n",
    "    '이원면',\n",
    "    '정림동',\n",
    "    '홍성읍'\n",
    "    ]"
   ]
  },
  {
   "cell_type": "code",
   "execution_count": null,
   "metadata": {},
   "outputs": [],
   "source": [
    "final_df = pd.read_csv(TEST_MERGE+'final_merged.csv')\n",
    "final_df.drop(['date'], axis=1, inplace=True) # ,'PM2.5'"
   ]
  },
  {
   "cell_type": "code",
   "execution_count": null,
   "metadata": {},
   "outputs": [],
   "source": [
    "df_all = final_df.copy()\n",
    "df_all.shape"
   ]
  },
  {
   "cell_type": "code",
   "execution_count": null,
   "metadata": {},
   "outputs": [],
   "source": [
    "df_all['month_12'] = 0"
   ]
  },
  {
   "cell_type": "code",
   "execution_count": null,
   "metadata": {},
   "outputs": [],
   "source": [
    "df_all = df_all[['PM2.5', 'temp', 'wind_direction', 'wind_speed', 'rain', 'humid',\n",
    "       'place_공주', 'place_노은동', 'place_논산', 'place_대천2동', 'place_독곶리',\n",
    "       'place_동문동', 'place_모종동', 'place_문창동', 'place_성성동', 'place_신방동',\n",
    "       'place_신흥동', 'place_아름동', 'place_예산군', 'place_읍내동', 'place_이원면',\n",
    "       'place_정림동', 'place_홍성읍', 'month_1', 'month_2', 'month_3', 'month_4',\n",
    "       'month_5', 'month_6', 'month_7', 'month_8', 'month_9', 'month_10',\n",
    "       'month_11', 'month_12','day_1', 'day_2', 'day_3', 'day_4', 'day_5', 'day_6',\n",
    "       'day_7', 'day_8', 'day_9', 'day_10', 'day_11', 'day_12', 'day_13',\n",
    "       'day_14', 'day_15', 'day_16', 'day_17', 'day_18', 'day_19', 'day_20',\n",
    "       'day_21', 'day_22', 'day_23', 'day_24', 'day_25', 'day_26', 'day_27',\n",
    "       'day_28', 'day_29', 'day_30', 'day_31', 'hour_0', 'hour_1', 'hour_2',\n",
    "       'hour_3', 'hour_4', 'hour_5', 'hour_6', 'hour_7', 'hour_8', 'hour_9',\n",
    "       'hour_10', 'hour_11', 'hour_12', 'hour_13', 'hour_14', 'hour_15',\n",
    "       'hour_16', 'hour_17', 'hour_18', 'hour_19', 'hour_20', 'hour_21',\n",
    "       'hour_22', 'hour_23']] "
   ]
  },
  {
   "cell_type": "code",
   "execution_count": null,
   "metadata": {},
   "outputs": [],
   "source": [
    "for place in place_lst:\n",
    "    globals()['df_{}'.format(place)] = df_all[df_all['place_{}'.format(place)]==1]"
   ]
  },
  {
   "cell_type": "code",
   "execution_count": null,
   "metadata": {},
   "outputs": [],
   "source": [
    "timestep_input = 48\n",
    "timestep_output = 72\n",
    "timestep = timestep_input+timestep_output"
   ]
  },
  {
   "cell_type": "code",
   "execution_count": null,
   "metadata": {},
   "outputs": [],
   "source": [
    "Encoder_X_lst = []\n",
    "encoder_x = []\n",
    "\n",
    "for place in place_lst:\n",
    "\n",
    "    df = globals()['df_{}'.format(place)]\n",
    "\n",
    "    for i in range( len(df)//(timestep_input+timestep_output)): \n",
    "        encoder_x.extend([df.iloc[i*timestep : i*timestep + timestep_input, :].values])\n",
    "\n",
    "Encoder_X = np.array(encoder_x)"
   ]
  },
  {
   "cell_type": "code",
   "execution_count": null,
   "metadata": {},
   "outputs": [],
   "source": [
    "Decoder_X_lst = []\n",
    "decoder_x = []\n",
    "\n",
    "for place in place_lst:\n",
    "\n",
    "    df = globals()['df_{}'.format(place)]\n",
    "\n",
    "    for i in range( len(df)//(timestep_input+timestep_output) ):\n",
    "        decoder_x.extend([df.iloc[i*timestep + timestep_input : i*timestep + timestep_input + timestep_output, 6:].values])\n",
    "        \n",
    "Decoder_X = np.array(decoder_x).astype('float')"
   ]
  },
  {
   "cell_type": "code",
   "execution_count": null,
   "metadata": {},
   "outputs": [],
   "source": [
    "Decoder_Y_lst = []\n",
    "decoder_y = []\n",
    "\n",
    "for place in place_lst:\n",
    "\n",
    "    df = globals()['df_{}'.format(place)]\n",
    "\n",
    "    for i in range( len(df)//(timestep_input+timestep_output) ):\n",
    "        decoder_y.extend([df.iloc[i*timestep + timestep_input : i*timestep + timestep_input + timestep_output, 0].values.T])\n",
    "        \n",
    "Decoder_Y = np.array(decoder_y)"
   ]
  },
  {
   "cell_type": "code",
   "execution_count": null,
   "metadata": {},
   "outputs": [],
   "source": [
    "import joblib\n",
    "\n",
    "LINEAR = 'linear_'\n",
    "POLYNOMIAL = 'polynomial_'\n",
    "\n",
    "joblib.dump(Encoder_X,'C:/Users/js/Desktop/AISPRAK/사회문제 해결형/'+LINEAR+'test_encoder_x.pkl')\n",
    "joblib.dump(Decoder_Y,'C:/Users/js/Desktop/AISPRAK/사회문제 해결형/'+LINEAR+'test_y.pkl')\n",
    "joblib.dump(Decoder_X,'C:/Users/js/Desktop/AISPRAK/사회문제 해결형/'+LINEAR+'test_decoder_x.pkl')"
   ]
  },
  {
   "cell_type": "code",
   "execution_count": null,
   "metadata": {},
   "outputs": [],
   "source": []
  }
 ],
 "metadata": {
  "language_info": {
   "name": "python"
  },
  "orig_nbformat": 4
 },
 "nbformat": 4,
 "nbformat_minor": 2
}
