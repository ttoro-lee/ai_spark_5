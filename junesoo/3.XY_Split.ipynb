{
 "cells": [
  {
   "cell_type": "code",
   "execution_count": 143,
   "metadata": {},
   "outputs": [],
   "source": [
    "import os\n",
    "import pandas as pd\n",
    "import numpy as np\n",
    "import seaborn as sns\n",
    "import matplotlib as mpl\n",
    "import matplotlib.pyplot as plt\n",
    "%matplotlib inline\n",
    "\n",
    "TRAIN_PATH = 'C:/Users/js/Desktop/AISPRAK/사회문제 해결형/data/TRAIN/'\n",
    "TRAIN_AWS_PATH = 'C:/Users/js/Desktop/AISPRAK/사회문제 해결형/data/TRAIN_AWS/'\n",
    "META_AWS_PATH = 'C:/Users/js/Desktop/AISPRAK/사회문제 해결형/data/META/awsmap.csv'\n",
    "META_PM_PATH = 'C:/Users/js/Desktop/AISPRAK/사회문제 해결형/data/META/pmmap.csv'\n",
    "\n",
    "LINEAR_PATH = 'C:/Users/js/Desktop/AISPRAK/사회문제 해결형/data/TRAIN_AWS_LINEAR/'\n",
    "POLY_PATH = 'C:/Users/js/Desktop/AISPRAK/사회문제 해결형/data/TRAIN_AWS_POLYNOMIAL_2/'\n",
    "\n",
    "TRAIN_MERGE_LINEAR_PATH = 'C:/Users/js/Desktop/AISPRAK/사회문제 해결형/data/MERGE_LINEAR/'\n",
    "TRAIN_MERGE_POLYNOMIAL_PATH = 'C:/Users/js/Desktop/AISPRAK/사회문제 해결형/data/MERGE_POLYNOMIAL/'\n",
    "\n",
    "TRAIN_LINEAR_PATH = 'C:/Users/js/Desktop/AISPRAK/사회문제 해결형/data/TRAIN_LINEAR/'\n",
    "TRAIN_POLY_PATH = 'C:/Users/js/Desktop/AISPRAK/사회문제 해결형/data/TRAIN_POLYNOMIAL/'\n",
    "\n",
    "mpl.rcParams['figure.figsize'] = (20,10)\n",
    "mpl.rcParams['axes.grid'] = False"
   ]
  },
  {
   "cell_type": "code",
   "execution_count": 145,
   "metadata": {},
   "outputs": [],
   "source": [
    "place_eng = {'place_공주':\t'',\n",
    "            'place_노은동':\t'',\n",
    "            'place_논산':\t'',\n",
    "            'place_대천2동':\t'',\n",
    "            'place_독곶리':\t'',\n",
    "            'place_동문동':\t'',\n",
    "            'place_모종동':\t'',\n",
    "            'place_문창동':\t'',\n",
    "            'place_성성동':\t'',\n",
    "            'place_신방동':\t'',\n",
    "            'place_신흥동':\t'',\n",
    "            'place_아름동':\t'',\n",
    "            'place_예산군':\t'',\n",
    "            'place_읍내동':\t'',\n",
    "            'place_이원면':\t'',\n",
    "            'place_정림동':\t'',\n",
    "            'place_홍성읍':''}\n",
    "\n",
    "place_lst = [\n",
    "    '공주',\n",
    "    '노은동',\n",
    "    '논산',\n",
    "    '대천2동',\n",
    "    '독곶리',\n",
    "    '동문동',\n",
    "    '모종동',\n",
    "    '문창동',\n",
    "    '성성동',\n",
    "    '신방동',\n",
    "    '신흥동',\n",
    "    '아름동',\n",
    "    '예산군',\n",
    "    '읍내동',\n",
    "    '이원면',\n",
    "    '정림동',\n",
    "    '홍성읍'\n",
    "    ]\n",
    "\n",
    "y_lst = ['shift' + str(i) for i in range(1,73,1)]\n",
    "# print(y_lst)"
   ]
  },
  {
   "cell_type": "code",
   "execution_count": 146,
   "metadata": {},
   "outputs": [],
   "source": [
    "df = pd.read_csv(TRAIN_MERGE_LINEAR_PATH+'final_merged.csv')\n",
    "df.drop(['date'], axis=1, inplace=True) # ,'PM2.5'\n",
    "df_all = df.copy()"
   ]
  },
  {
   "cell_type": "code",
   "execution_count": 147,
   "metadata": {},
   "outputs": [
    {
     "data": {
      "text/plain": [
       "(596088, 162)"
      ]
     },
     "execution_count": 147,
     "metadata": {},
     "output_type": "execute_result"
    }
   ],
   "source": [
    "df_all.shape"
   ]
  },
  {
   "cell_type": "code",
   "execution_count": 148,
   "metadata": {},
   "outputs": [],
   "source": [
    "df_공주 = df_all[df_all['place_공주']==1]\n",
    "df_노은동 = df_all[df_all['place_노은동']==1]\n",
    "df_논산 = df_all[df_all['place_논산']==1]\n",
    "df_대천2동 = df_all[df_all['place_대천2동']==1]\n",
    "df_독곶리 = df_all[df_all['place_독곶리']==1]\n",
    "\n",
    "df_동문동 = df_all[df_all['place_동문동']==1]\n",
    "df_모종동 = df_all[df_all['place_모종동']==1]\n",
    "df_문창동 = df_all[df_all['place_문창동']==1]\n",
    "df_성성동 = df_all[df_all['place_성성동']==1]\n",
    "df_신방동 = df_all[df_all['place_신방동']==1]\n",
    "\n",
    "df_신흥동 = df_all[df_all['place_신흥동']==1]\n",
    "df_아름동 = df_all[df_all['place_아름동']==1]\n",
    "df_예산군 = df_all[df_all['place_예산군']==1]\n",
    "df_읍내동 = df_all[df_all['place_읍내동']==1]\n",
    "df_이원면 = df_all[df_all['place_이원면']==1]\n",
    "\n",
    "df_정림동 = df_all[df_all['place_정림동']==1]\n",
    "df_홍성읍 = df_all[df_all['place_홍성읍']==1]\n",
    "\n",
    "# .to_numpy().tolist()\n",
    "# .dropna(axis=0).to_numpy().tolist()"
   ]
  },
  {
   "cell_type": "code",
   "execution_count": 241,
   "metadata": {},
   "outputs": [
    {
     "name": "stdout",
     "output_type": "stream",
     "text": [
      "홍성읍 :    35064     35064       0\n",
      "(35064, 90)\n",
      "(35064, 72)\n"
     ]
    },
    {
     "data": {
      "text/plain": [
       "(17, 17)"
      ]
     },
     "execution_count": 241,
     "metadata": {},
     "output_type": "execute_result"
    }
   ],
   "source": [
    "df_공주_x = df_공주.drop(y_lst, axis=1).to_numpy().tolist()\n",
    "df_공주_y = df_공주[y_lst].to_numpy().tolist()\n",
    "\n",
    "df_노은동_x = df_노은동.drop(y_lst, axis=1).to_numpy().tolist()\n",
    "df_노은동_y = df_노은동[y_lst].to_numpy().tolist()\n",
    "\n",
    "df_논산_x = df_논산.drop(y_lst, axis=1).to_numpy().tolist()\n",
    "df_논산_y = df_논산[y_lst].to_numpy().tolist()\n",
    "\n",
    "df_대천2동_x = df_대천2동.drop(y_lst, axis=1).to_numpy().tolist()\n",
    "df_대천2동_y = df_대천2동[y_lst].to_numpy().tolist()\n",
    "\n",
    "df_독곶리_x = df_독곶리.drop(y_lst, axis=1).to_numpy().tolist()\n",
    "df_독곶리_y = df_독곶리[y_lst].to_numpy().tolist()\n",
    "\n",
    "\n",
    "df_동문동_x = df_동문동.drop(y_lst, axis=1).to_numpy().tolist()\n",
    "df_동문동_y = df_동문동[y_lst].to_numpy().tolist()\n",
    "\n",
    "df_모종동_x = df_모종동.drop(y_lst, axis=1).to_numpy().tolist()\n",
    "df_모종동_y = df_모종동[y_lst].to_numpy().tolist()\n",
    "\n",
    "df_문창동_x = df_문창동.drop(y_lst, axis=1).to_numpy().tolist()\n",
    "df_문창동_y = df_문창동[y_lst].to_numpy().tolist()\n",
    "\n",
    "df_성성동_x = df_성성동.drop(y_lst, axis=1).to_numpy().tolist()\n",
    "df_성성동_y = df_성성동[y_lst].to_numpy().tolist()\n",
    " \n",
    "df_신방동_x = df_신방동.drop(y_lst, axis=1).to_numpy().tolist()\n",
    "df_신방동_y = df_신방동[y_lst].to_numpy().tolist()\n",
    "\n",
    "df_신흥동_x = df_신흥동.drop(y_lst, axis=1).to_numpy().tolist()\n",
    "df_신흥동_y = df_신흥동[y_lst].to_numpy().tolist()\n",
    "\n",
    "df_아름동_x = df_아름동.drop(y_lst, axis=1).to_numpy().tolist()\n",
    "df_아름동_y = df_아름동[y_lst].to_numpy().tolist()\n",
    " \n",
    "df_예산군_x = df_예산군.drop(y_lst, axis=1).to_numpy().tolist()\n",
    "df_예산군_y = df_예산군[y_lst].to_numpy().tolist()\n",
    "\n",
    "df_읍내동_x = df_읍내동.drop(y_lst, axis=1).to_numpy().tolist()\n",
    "df_읍내동_y = df_읍내동[y_lst].to_numpy().tolist()\n",
    "\n",
    "\n",
    "df_이원면_x = df_이원면.drop(y_lst, axis=1).to_numpy().tolist()\n",
    "df_이원면_y = df_이원면[y_lst].to_numpy().tolist()\n",
    "\n",
    "df_정림동_x = df_정림동.drop(y_lst, axis=1).to_numpy().tolist()\n",
    "df_정림동_y = df_정림동[y_lst].to_numpy().tolist()\n",
    "\n",
    "df_홍성읍_x = df_홍성읍.drop(y_lst, axis=1).to_numpy().tolist()\n",
    "df_홍성읍_y = df_홍성읍[y_lst].to_numpy().tolist()\n",
    "\n",
    "lst_x = [df_공주_x,df_노은동_x,df_논산_x,df_대천2동_x,df_독곶리_x,df_동문동_x,df_모종동_x,df_문창동_x,df_성성동_x,df_신방동_x,df_신흥동_x,df_아름동_x,df_예산군_x,df_읍내동_x,df_이원면_x,df_정림동_x,df_홍성읍_x]\n",
    "lst_y = [df_공주_y,df_노은동_y,df_논산_y,df_대천2동_y,df_독곶리_y,df_동문동_y,df_모종동_y,df_문창동_y,df_성성동_y,df_신방동_y,df_신흥동_y,df_아름동_y,df_예산군_y,df_읍내동_y,df_이원면_y,df_정림동_y,df_홍성읍_y]\n",
    "\n",
    "print( \"홍성읍 :   \",len(df_홍성읍_x), \"   \", len(df_홍성읍_y), \"     \", len(df_홍성읍_x)-len(df_홍성읍_y)) # 72이어야 한다. (마지막 친구는 자기를 포함해야한다.)\n",
    "print(df_홍성읍.drop(y_lst, axis=1).shape)\n",
    "print(df_홍성읍[y_lst].shape)\n",
    "\n",
    "len(lst_x), len(lst_y)"
   ]
  },
  {
   "cell_type": "code",
   "execution_count": 242,
   "metadata": {},
   "outputs": [
    {
     "data": {
      "text/plain": [
       "((34944, 48, 90), (34944, 72))"
      ]
     },
     "execution_count": 242,
     "metadata": {},
     "output_type": "execute_result"
    }
   ],
   "source": [
    "timestep_input = 48\n",
    "timestep_output = 72\n",
    "\n",
    "\n",
    "X_공주 = np.array([ df_공주_x[i : i + timestep_input] for i in range( 0, len(df_공주_x) - timestep_output - timestep_input ) ])\n",
    "Y_공주 = np.array([ df_공주_y[i] for i in range( 0, len(df_공주_y) - timestep_output - timestep_input ) ])\n",
    "\n",
    "X_노은동 = np.array([ df_노은동_x[i : i + timestep_input] for i in range( 0, len(df_노은동_x) - timestep_output - timestep_input ) ])\n",
    "Y_노은동 = np.array([ df_노은동_y[i] for i in range( 0, len(df_노은동_y) - timestep_output - timestep_input ) ])\n",
    "\n",
    "X_논산 = np.array([ df_논산_x[i : i + timestep_input] for i in range( 0, len(df_논산_x) - timestep_output - timestep_input ) ])\n",
    "Y_논산 = np.array([ df_논산_y[i] for i in range( 0, len(df_논산_y) - timestep_output - timestep_input ) ])\n",
    "\n",
    "X_대천2동 = np.array([ df_대천2동_x[i : i + timestep_input] for i in range( 0, len(df_대천2동_x) - timestep_output - timestep_input ) ])\n",
    "Y_대천2동 = np.array([ df_대천2동_y[i] for i in range( 0, len(df_대천2동_y) - timestep_output - timestep_input ) ])\n",
    "\n",
    "X_독곶리 = np.array([ df_독곶리_x[i : i + timestep_input] for i in range( 0, len(df_독곶리_x) - timestep_output - timestep_input ) ])\n",
    "Y_독곶리 = np.array([ df_독곶리_y[i] for i in range( 0, len(df_독곶리_y) - timestep_output - timestep_input ) ])\n",
    "\n",
    "\n",
    "\n",
    "X_동문동 = np.array([ df_동문동_x[i : i + timestep_input] for i in range( 0, len(df_동문동_x) - timestep_output - timestep_input ) ])\n",
    "Y_동문동 = np.array([ df_동문동_y[i] for i in range( 0, len(df_동문동_y) - timestep_output - timestep_input ) ])\n",
    "\n",
    "X_모종동 = np.array([ df_모종동_x[i : i + timestep_input] for i in range( 0, len(df_모종동_x) - timestep_output - timestep_input ) ])\n",
    "Y_모종동 = np.array([ df_모종동_y[i] for i in range( 0, len(df_모종동_y) - timestep_output - timestep_input ) ])\n",
    "\n",
    "X_문창동 = np.array([ df_문창동_x[i : i + timestep_input] for i in range( 0, len(df_문창동_x) - timestep_output - timestep_input ) ])\n",
    "Y_문창동 = np.array([ df_문창동_y[i] for i in range( 0, len(df_문창동_y) - timestep_output - timestep_input ) ])\n",
    "\n",
    "X_성성동 = np.array([ df_성성동_x[i : i + timestep_input] for i in range( 0, len(df_성성동_x) - timestep_output - timestep_input ) ])\n",
    "Y_성성동 = np.array([ df_성성동_y[i] for i in range( 0, len(df_성성동_y) - timestep_output - timestep_input ) ])\n",
    "\n",
    "X_신방동 = np.array([ df_신방동_x[i : i + timestep_input] for i in range( 0, len(df_신방동_x) - timestep_output - timestep_input ) ])\n",
    "Y_신방동 = np.array([ df_신방동_y[i] for i in range( 0, len(df_신방동_y) - timestep_output - timestep_input ) ])\n",
    "\n",
    "\n",
    "X_신흥동 = np.array([ df_신흥동_x[i : i + timestep_input] for i in range( 0, len(df_신흥동_x) - timestep_output - timestep_input ) ])\n",
    "Y_신흥동 = np.array([ df_신흥동_y[i] for i in range( 0, len(df_신흥동_y) - timestep_output - timestep_input ) ])\n",
    "\n",
    "X_아름동 = np.array([ df_아름동_x[i : i + timestep_input] for i in range( 0, len(df_아름동_x) - timestep_output - timestep_input ) ])\n",
    "Y_아름동 = np.array([ df_아름동_y[i] for i in range( 0, len(df_아름동_y) - timestep_output - timestep_input ) ])\n",
    "\n",
    "X_예산군 = np.array([ df_예산군_x[i : i + timestep_input] for i in range( 0, len(df_예산군_x) - timestep_output - timestep_input ) ])\n",
    "Y_예산군 = np.array([ df_예산군_y[i] for i in range( 0, len(df_예산군_y) - timestep_output - timestep_input ) ])\n",
    "\n",
    "X_읍내동 = np.array([ df_읍내동_x[i : i + timestep_input] for i in range( 0, len(df_읍내동_x) - timestep_output - timestep_input ) ])\n",
    "Y_읍내동 = np.array([ df_읍내동_y[i] for i in range( 0, len(df_읍내동_y) - timestep_output - timestep_input ) ])\n",
    "\n",
    "X_이원면 = np.array([ df_이원면_x[i : i + timestep_input] for i in range( 0, len(df_이원면_x) - timestep_output - timestep_input ) ])\n",
    "Y_이원면 = np.array([ df_이원면_y[i] for i in range( 0, len(df_이원면_y) - timestep_output - timestep_input ) ])\n",
    "\n",
    "\n",
    "X_정림동 = np.array([ df_정림동_x[i : i + timestep_input] for i in range( 0, len(df_정림동_x) - timestep_output - timestep_input ) ])\n",
    "Y_정림동 = np.array([ df_정림동_y[i] for i in range( 0, len(df_정림동_y) - timestep_output - timestep_input ) ])\n",
    "\n",
    "X_홍성읍 = np.array([ df_홍성읍_x[i : i + timestep_input] for i in range( 0, len(df_홍성읍_x) - timestep_output - timestep_input ) ])\n",
    "Y_홍성읍 = np.array([ df_홍성읍_y[i] for i in range( 0, len(df_홍성읍_y) - timestep_output - timestep_input ) ])\n",
    "\n",
    "X_홍성읍.shape, Y_홍성읍.shape"
   ]
  },
  {
   "cell_type": "code",
   "execution_count": 243,
   "metadata": {},
   "outputs": [],
   "source": [
    "X_lst = [\n",
    "    X_공주,\n",
    "    X_노은동,\n",
    "    X_논산,\n",
    "    X_대천2동,\n",
    "    X_독곶리,\n",
    "    X_동문동,\n",
    "    X_모종동,\n",
    "    X_문창동,\n",
    "    X_성성동,\n",
    "    X_신방동,\n",
    "    X_신흥동,\n",
    "    X_아름동,\n",
    "    X_예산군,\n",
    "    X_읍내동,\n",
    "    X_이원면,\n",
    "    X_정림동,\n",
    "    X_홍성읍\n",
    "    ]\n",
    "\n",
    "Y_lst = [\n",
    "    Y_공주,\n",
    "    Y_노은동,\n",
    "    Y_논산,\n",
    "    Y_대천2동,\n",
    "    Y_독곶리,\n",
    "    Y_동문동,\n",
    "    Y_모종동,\n",
    "    Y_문창동,\n",
    "    Y_성성동,\n",
    "    Y_신방동,\n",
    "    Y_신흥동,\n",
    "    Y_아름동,\n",
    "    Y_예산군,\n",
    "    Y_읍내동,\n",
    "    Y_이원면,\n",
    "    Y_정림동,\n",
    "    Y_홍성읍\n",
    "    ]"
   ]
  },
  {
   "cell_type": "code",
   "execution_count": 248,
   "metadata": {},
   "outputs": [
    {
     "data": {
      "text/plain": [
       "559104"
      ]
     },
     "execution_count": 248,
     "metadata": {},
     "output_type": "execute_result"
    }
   ],
   "source": [
    "df_X = []\n",
    "\n",
    "for i in X_lst[1:]:\n",
    "    df_X.extend(i)\n",
    "\n",
    "len(df_X)"
   ]
  },
  {
   "cell_type": "code",
   "execution_count": 255,
   "metadata": {},
   "outputs": [
    {
     "data": {
      "text/plain": [
       "559104"
      ]
     },
     "execution_count": 255,
     "metadata": {},
     "output_type": "execute_result"
    }
   ],
   "source": [
    "df_Y = []\n",
    "\n",
    "for i in Y_lst[1:]:\n",
    "    df_Y.extend(i)\n",
    "\n",
    "len(df_Y)"
   ]
  },
  {
   "cell_type": "code",
   "execution_count": 256,
   "metadata": {},
   "outputs": [
    {
     "data": {
      "text/plain": [
       "['C:/Users/js/Desktop/AISPRAK/사회문제 해결형/df_y.pkl']"
      ]
     },
     "execution_count": 256,
     "metadata": {},
     "output_type": "execute_result"
    }
   ],
   "source": [
    "import joblib\n",
    "\n",
    "joblib.dump(df_X,'C:/Users/js/Desktop/AISPRAK/사회문제 해결형/df_x.pkl')\n",
    "joblib.dump(df_Y,'C:/Users/js/Desktop/AISPRAK/사회문제 해결형/df_y.pkl')"
   ]
  },
  {
   "cell_type": "code",
   "execution_count": 231,
   "metadata": {},
   "outputs": [
    {
     "data": {
      "text/plain": [
       "(48, 128, 72, 128)"
      ]
     },
     "execution_count": 231,
     "metadata": {},
     "output_type": "execute_result"
    }
   ],
   "source": [
    "# import tensorflow as tf\n",
    "# from tensorflow.keras.preprocessing.sequence import TimeseriesGenerator\n",
    "\n",
    "# ts_generator = TimeseriesGenerator(df_홍성읍_x[:-72],df_홍성읍_y,length=48,shuffle=False)\n",
    "\n",
    "# len(ts_generator[0][0][0]), len(ts_generator[0][0]), len(ts_generator[0][1][0]), len(ts_generator[0][1])"
   ]
  }
 ],
 "metadata": {
  "kernelspec": {
   "display_name": "Python 3",
   "language": "python",
   "name": "python3"
  },
  "language_info": {
   "codemirror_mode": {
    "name": "ipython",
    "version": 3
   },
   "file_extension": ".py",
   "mimetype": "text/x-python",
   "name": "python",
   "nbconvert_exporter": "python",
   "pygments_lexer": "ipython3",
   "version": "3.10.7"
  },
  "orig_nbformat": 4
 },
 "nbformat": 4,
 "nbformat_minor": 2
}
