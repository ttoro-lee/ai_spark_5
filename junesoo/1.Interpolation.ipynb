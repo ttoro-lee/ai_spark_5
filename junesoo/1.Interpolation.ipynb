{
 "cells": [
  {
   "cell_type": "code",
   "execution_count": null,
   "metadata": {},
   "outputs": [],
   "source": []
  },
  {
   "attachments": {},
   "cell_type": "markdown",
   "metadata": {},
   "source": [
    "# Interpolation한 데이터를 합친 후 one-hot encoding, shift, 날짜 데이터 추가하는 페이지"
   ]
  },
  {
   "cell_type": "code",
   "execution_count": 56,
   "metadata": {},
   "outputs": [],
   "source": [
    "import os\n",
    "import pandas as pd\n",
    "import numpy as np\n",
    "import seaborn as sns\n",
    "import matplotlib as mpl\n",
    "import matplotlib.pyplot as plt\n",
    "%matplotlib inline\n",
    "\n",
    "TRAIN_PATH = 'C:/Users/js/Desktop/AISPRAK/사회문제 해결형/data/TRAIN/'\n",
    "TRAIN_AWS_PATH = 'C:/Users/js/Desktop/AISPRAK/사회문제 해결형/data/TRAIN_AWS/'\n",
    "META_AWS_PATH = 'C:/Users/js/Desktop/AISPRAK/사회문제 해결형/data/META/awsmap.csv'\n",
    "META_PM_PATH = 'C:/Users/js/Desktop/AISPRAK/사회문제 해결형/data/META/pmmap.csv'\n",
    "\n",
    "LINEAR_PATH = 'C:/Users/js/Desktop/AISPRAK/사회문제 해결형/data/TRAIN_AWS_LINEAR/'\n",
    "POLY_PATH = 'C:/Users/js/Desktop/AISPRAK/사회문제 해결형/data/TRAIN_AWS_POLYNOMIAL_2/'\n",
    "\n",
    "TRAIN_MERGE_LINEAR_PATH = 'C:/Users/js/Desktop/AISPRAK/사회문제 해결형/data/MERGE_LINEAR/'\n",
    "TRAIN_MERGE_POLYNOMIAL_PATH = 'C:/Users/js/Desktop/AISPRAK/사회문제 해결형/data/MERGE_POLYNOMIAL/'\n",
    "\n",
    "TRAIN_LINEAR_PATH = 'C:/Users/js/Desktop/AISPRAK/사회문제 해결형/data/TRAIN_LINEAR/'\n",
    "TRAIN_POLY_PATH = 'C:/Users/js/Desktop/AISPRAK/사회문제 해결형/data/TRAIN_POLYNOMIAL/'\n",
    "\n",
    "mpl.rcParams['figure.figsize'] = (20,10)\n",
    "mpl.rcParams['axes.grid'] = False"
   ]
  },
  {
   "cell_type": "code",
   "execution_count": 57,
   "metadata": {},
   "outputs": [],
   "source": [
    "# shift + Merge\n",
    "\n",
    "final_merged_df = pd.DataFrame()\n",
    "for linear in os.listdir(TRAIN_MERGE_LINEAR_PATH):\n",
    "    df = pd.read_csv(TRAIN_MERGE_LINEAR_PATH+linear)\n",
    "    df.drop(['year_x','place_y','year_y'],inplace=True,axis=1)\n",
    "    df.rename(columns={'place_x':'place'},inplace=True)\n",
    "\n",
    "    for i in range(1,73,1): # (48,120,1)\n",
    "        df['shift'+str(i)] = df['PM2.5'].shift(-i)\n",
    "    final_merged_df = pd.concat([final_merged_df,df])\n",
    "\n",
    "# final_merged_df.dropna(axis=0, inplace=True)\n",
    "\n",
    "final_merged_df['date'] = pd.to_datetime(final_merged_df['date'], format='%Y-%m-%d %H:%M')\n",
    "final_merged_df['month'] = final_merged_df['date'].dt.month\n",
    "final_merged_df['day'] = final_merged_df['date'].dt.day\n",
    "final_merged_df['hour'] = final_merged_df['date'].dt.hour\n",
    "\n",
    "final_merged_df = pd.get_dummies(data = final_merged_df, columns=['place','month', 'day', 'hour'])\n",
    "final_merged_df.to_csv(TRAIN_MERGE_LINEAR_PATH+'final_merged.csv',index=False)"
   ]
  },
  {
   "cell_type": "code",
   "execution_count": 58,
   "metadata": {},
   "outputs": [
    {
     "data": {
      "text/plain": [
       "(596088, 163)"
      ]
     },
     "execution_count": 58,
     "metadata": {},
     "output_type": "execute_result"
    }
   ],
   "source": [
    "final_merged_df.shape"
   ]
  },
  {
   "cell_type": "code",
   "execution_count": 59,
   "metadata": {},
   "outputs": [],
   "source": [
    "# shift + Merge\n",
    "\n",
    "final_merged_df = pd.DataFrame()\n",
    "\n",
    "for poly in os.listdir(TRAIN_MERGE_POLYNOMIAL_PATH):\n",
    "    df = pd.read_csv(TRAIN_MERGE_POLYNOMIAL_PATH+poly)\n",
    "    df.drop(['year_x','place_y','year_y'],inplace=True,axis=1)\n",
    "    df.rename(columns={'place_x':'place'},inplace=True)\n",
    "\n",
    "    for i in range(1,73,1): # (48,120,1)\n",
    "        df['shift'+str(i)] = df['PM2.5'].shift(-i)\n",
    "\n",
    "    final_merged_df = pd.concat([final_merged_df,df])\n",
    "\n",
    "# final_merged_df.dropna(axis=0, inplace=True)\n",
    "\n",
    "final_merged_df['date'] = pd.to_datetime(final_merged_df['date'], format='%Y-%m-%d %H:%M')\n",
    "final_merged_df['month'] = final_merged_df['date'].dt.month\n",
    "final_merged_df['day'] = final_merged_df['date'].dt.day\n",
    "final_merged_df['hour'] = final_merged_df['date'].dt.hour\n",
    "\n",
    "final_merged_df = pd.get_dummies(data = final_merged_df, columns=['place','month', 'day', 'hour'])\n",
    "final_merged_df.to_csv(TRAIN_MERGE_POLYNOMIAL_PATH+'final_merged.csv',index=False)"
   ]
  },
  {
   "cell_type": "code",
   "execution_count": 60,
   "metadata": {},
   "outputs": [
    {
     "data": {
      "text/plain": [
       "(596088, 163)"
      ]
     },
     "execution_count": 60,
     "metadata": {},
     "output_type": "execute_result"
    }
   ],
   "source": [
    "final_merged_df.shape"
   ]
  },
  {
   "cell_type": "code",
   "execution_count": null,
   "metadata": {},
   "outputs": [],
   "source": [
    "place_eng = {'place_공주':\t'',\n",
    "            'place_노은동':\t'',\n",
    "            'place_논산':\t'',\n",
    "            'place_대천2동':\t'',\n",
    "            'place_독곶리':\t'',\n",
    "            'place_동문동':\t'',\n",
    "            'place_모종동':\t'',\n",
    "            'place_문창동':\t'',\n",
    "            'place_성성동':\t'',\n",
    "            'place_신방동':\t'',\n",
    "            'place_신흥동':\t'',\n",
    "            'place_아름동':\t'',\n",
    "            'place_예산군':\t'',\n",
    "            'place_읍내동':\t'',\n",
    "            'place_이원면':\t'',\n",
    "            'place_정림동':\t'',\n",
    "            'place_홍성읍':''}"
   ]
  },
  {
   "cell_type": "code",
   "execution_count": null,
   "metadata": {},
   "outputs": [],
   "source": []
  }
 ],
 "metadata": {
  "kernelspec": {
   "display_name": "Python 3",
   "language": "python",
   "name": "python3"
  },
  "language_info": {
   "codemirror_mode": {
    "name": "ipython",
    "version": 3
   },
   "file_extension": ".py",
   "mimetype": "text/x-python",
   "name": "python",
   "nbconvert_exporter": "python",
   "pygments_lexer": "ipython3",
   "version": "3.10.7"
  },
  "orig_nbformat": 4
 },
 "nbformat": 4,
 "nbformat_minor": 2
}
