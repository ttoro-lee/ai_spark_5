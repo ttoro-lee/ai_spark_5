{
 "cells": [
  {
   "cell_type": "code",
   "execution_count": null,
   "metadata": {},
   "outputs": [],
   "source": []
  },
  {
   "attachments": {},
   "cell_type": "markdown",
   "metadata": {},
   "source": [
    "# 1 대 1 대응으로 train과 train_aws합치기"
   ]
  },
  {
   "cell_type": "code",
   "execution_count": 156,
   "metadata": {},
   "outputs": [],
   "source": [
    "import os\n",
    "import pandas as pd\n",
    "import numpy as np\n",
    "import seaborn as sns\n",
    "import matplotlib as mpl\n",
    "import matplotlib.pyplot as plt\n",
    "from scipy import interpolate\n",
    "%matplotlib inline\n",
    "\n",
    "TRAIN_PATH = 'C:/Users/js/Desktop/AISPRAK/사회문제 해결형/data/TRAIN/'\n",
    "TRAIN_AWS_PATH = 'C:/Users/js/Desktop/AISPRAK/사회문제 해결형/data/TRAIN_AWS/'\n",
    "META_AWS_PATH = 'C:/Users/js/Desktop/AISPRAK/사회문제 해결형/data/META/awsmap.csv'\n",
    "META_PM_PATH = 'C:/Users/js/Desktop/AISPRAK/사회문제 해결형/data/META/pmmap.csv'\n",
    "\n",
    "LINEAR_PATH = 'C:/Users/js/Desktop/AISPRAK/사회문제 해결형/data/TRAIN_AWS_LINEAR/'\n",
    "POLY_PATH = 'C:/Users/js/Desktop/AISPRAK/사회문제 해결형/data/TRAIN_AWS_POLYNOMIAL_2/'\n",
    "\n",
    "TRAIN_LINEAR_PATH = 'C:/Users/js/Desktop/AISPRAK/사회문제 해결형/data/TRAIN_LINEAR/'\n",
    "TRAIN_POLY_PATH = 'C:/Users/js/Desktop/AISPRAK/사회문제 해결형/data/TRAIN_POLYNOMIAL/'\n",
    "\n",
    "TRAIN_MERGE_LINEAR_PATH = 'C:/Users/js/Desktop/AISPRAK/사회문제 해결형/data/MERGE_LINEAR/'\n",
    "TRAIN_MERGE_POLYNOMIAL_PATH = 'C:/Users/js/Desktop/AISPRAK/사회문제 해결형/data/MERGE_POLYNOMIAL/'\n",
    "\n",
    "mpl.rcParams['figure.figsize'] = (20,10)\n",
    "mpl.rcParams['axes.grid'] = False"
   ]
  },
  {
   "cell_type": "code",
   "execution_count": 157,
   "metadata": {},
   "outputs": [],
   "source": [
    "# 데이터 Null 처리를 위해 보간법(Interpolation) 적용\n",
    "# Linear,Lagrange, Newton Spline, Cubic, Polynomial(2,3차)까지 적용해보자.\n",
    "\n",
    "# https://www.d3view.com/interpolation-methods-for-time-series-data/\n",
    "# https://towardsdatascience.com/polynomial-interpolation-3463ea4b63dd"
   ]
  },
  {
   "cell_type": "code",
   "execution_count": 183,
   "metadata": {},
   "outputs": [],
   "source": [
    "# df = pd.read_csv(TRAIN_AWS_PATH+'공주.csv')\n",
    "# df.rename(columns={'연도': 'year', '일시' : 'date', \"지점\": 'place','기온(°C)':'temp','풍향(deg)':'wind_direction','풍속(m/s)':'wind_speed','강수량(mm)':'rain','습도(%)':'humid'},inplace=True)\n",
    "# df.tail()"
   ]
  },
  {
   "cell_type": "code",
   "execution_count": 184,
   "metadata": {},
   "outputs": [],
   "source": [
    "# df['date'] = pd.to_datetime(df['date'], format='%Y-%m-%d %H:%M')"
   ]
  },
  {
   "cell_type": "code",
   "execution_count": 186,
   "metadata": {},
   "outputs": [],
   "source": [
    "# Linear Interpolation\n",
    "\n",
    "for aws in os.listdir(TRAIN_PATH):\n",
    "    df = pd.read_csv(TRAIN_PATH+aws)\n",
    "    df.rename(columns={'연도': 'year', '일시' : 'date', \"측정소\": 'place'},inplace=True)\n",
    "    df['year'] += 2001\n",
    "    df['date'] = df['year'].astype('str') + \"-\" + df['date'].astype('str')\n",
    "    df['year'] = df['year'].astype('object')\n",
    "    df['PM2.5'] = df['PM2.5'].interpolate(method='linear')\n",
    "    df.to_csv(TRAIN_LINEAR_PATH+aws,index=False)"
   ]
  },
  {
   "cell_type": "code",
   "execution_count": 187,
   "metadata": {},
   "outputs": [],
   "source": [
    "# Linear Interpolation\n",
    "\n",
    "for aws in os.listdir(TRAIN_PATH):\n",
    "    df = pd.read_csv(TRAIN_PATH+aws)\n",
    "    df.rename(columns={'연도': 'year', '일시' : 'date', \"측정소\": 'place'},inplace=True)\n",
    "    df['year'] += 2001\n",
    "    df['date'] = df['year'].astype('str') + \"-\" + df['date'].astype('str')\n",
    "    df['year'] = df['year'].astype('object')\n",
    "    df['PM2.5'] = df['PM2.5'].interpolate(method='polynomial',order=2)\n",
    "    df.to_csv(TRAIN_POLY_PATH+aws,index=False)"
   ]
  },
  {
   "cell_type": "code",
   "execution_count": null,
   "metadata": {},
   "outputs": [],
   "source": []
  },
  {
   "cell_type": "code",
   "execution_count": 188,
   "metadata": {},
   "outputs": [],
   "source": [
    "# Linear Interpolation\n",
    "\n",
    "for aws in os.listdir(TRAIN_AWS_PATH):\n",
    "    df = pd.read_csv(TRAIN_AWS_PATH+aws)\n",
    "    df.rename(columns={'연도': 'year', '일시' : 'date', \"지점\": 'place','기온(°C)':'temp','풍향(deg)':'wind_direction','풍속(m/s)':'wind_speed','강수량(mm)':'rain','습도(%)':'humid'},inplace=True)\n",
    "    df['year'] += 2001\n",
    "    df['date'] = df['year'].astype('str') + \"-\" + df['date'].astype('str')\n",
    "    df['year'] = df['year'].astype('object')\n",
    "    df[['temp','wind_direction','wind_speed','rain','humid']] = df[['temp','wind_direction','wind_speed','rain','humid']].interpolate(method='linear')\n",
    "    df.to_csv(LINEAR_PATH+aws,index=False)"
   ]
  },
  {
   "cell_type": "code",
   "execution_count": 189,
   "metadata": {},
   "outputs": [],
   "source": [
    "# Polynomial Interpolation\n",
    "\n",
    "for aws in os.listdir(TRAIN_AWS_PATH):\n",
    "    df = pd.read_csv(TRAIN_AWS_PATH+aws)\n",
    "    df.rename(columns={'연도': 'year', '일시' : 'date', \"지점\": 'place','기온(°C)':'temp','풍향(deg)':'wind_direction','풍속(m/s)':'wind_speed','강수량(mm)':'rain','습도(%)':'humid'},inplace=True)\n",
    "    df['year'] += 2001\n",
    "    df['date'] = df['year'].astype('str') + \"-\" + df['date'].astype('str')\n",
    "    df['year'] = df['year'].astype('object')\n",
    "    df[['temp','wind_direction','wind_speed','rain','humid']] = df[['temp','wind_direction','wind_speed','rain','humid']].interpolate(method='polynomial',order=2)\n",
    "    df.to_csv(POLY_PATH+aws,index=False)"
   ]
  },
  {
   "attachments": {},
   "cell_type": "markdown",
   "metadata": {},
   "source": [
    "# 데이터 TRAIN과 TRAIN_AWS 합치기"
   ]
  },
  {
   "cell_type": "code",
   "execution_count": 199,
   "metadata": {},
   "outputs": [],
   "source": [
    "one2one_col = {'정림동' : '오월드', '문창동' : '오월드',  '읍내동' : '장동',  '노은동' : '계룡',  '아름동' : '세종고운',\n",
    "                '신흥동' : '세종연서',  '공주' : '공주',  '논산' : '논산',  '대천2동' : '대천항',  '홍성읍' : '홍북',\n",
    "                '예산군' : '예산',  '모종동' : '아산',  '신방동' : '성거',  '성성동' : '성거',  '동문동' : '태안',\n",
    "                '이원면' : '안도',  '독곶리' : '대산'}\n",
    "\n"
   ]
  },
  {
   "cell_type": "code",
   "execution_count": 197,
   "metadata": {},
   "outputs": [],
   "source": [
    "for train in os.listdir(TRAIN_LINEAR_PATH):\n",
    "    df = pd.read_csv(TRAIN_LINEAR_PATH+train)\n",
    "    \n",
    "    merge_df = pd.read_csv(LINEAR_PATH+one2one_col[train.split('.')[0]]+'.csv')\n",
    "    merged_df = pd.merge(df,merge_df,how='inner',on='date')\n",
    "\n",
    "    merged_df.to_csv(TRAIN_MERGE_LINEAR_PATH+train,index=False)"
   ]
  },
  {
   "cell_type": "code",
   "execution_count": 198,
   "metadata": {},
   "outputs": [],
   "source": [
    "for train in os.listdir(TRAIN_POLY_PATH):\n",
    "    df = pd.read_csv(TRAIN_POLY_PATH+train)\n",
    "    \n",
    "    merge_df = pd.read_csv(POLY_PATH+one2one_col[train.split('.')[0]]+'.csv')\n",
    "    merged_df = pd.merge(df,merge_df,how='inner',on='date')\n",
    "\n",
    "    merged_df.to_csv(TRAIN_MERGE_POLYNOMIAL_PATH+train,index=False)"
   ]
  },
  {
   "cell_type": "code",
   "execution_count": null,
   "metadata": {},
   "outputs": [],
   "source": []
  },
  {
   "cell_type": "code",
   "execution_count": null,
   "metadata": {},
   "outputs": [],
   "source": []
  }
 ],
 "metadata": {
  "kernelspec": {
   "display_name": "Python 3",
   "language": "python",
   "name": "python3"
  },
  "language_info": {
   "codemirror_mode": {
    "name": "ipython",
    "version": 3
   },
   "file_extension": ".py",
   "mimetype": "text/x-python",
   "name": "python",
   "nbconvert_exporter": "python",
   "pygments_lexer": "ipython3",
   "version": "3.10.7"
  },
  "orig_nbformat": 4
 },
 "nbformat": 4,
 "nbformat_minor": 2
}
