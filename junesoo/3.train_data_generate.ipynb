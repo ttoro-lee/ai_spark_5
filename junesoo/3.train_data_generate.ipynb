{
 "cells": [
  {
   "cell_type": "code",
   "execution_count": null,
   "metadata": {},
   "outputs": [],
   "source": []
  },
  {
   "cell_type": "code",
   "execution_count": null,
   "metadata": {},
   "outputs": [],
   "source": []
  },
  {
   "cell_type": "code",
   "execution_count": null,
   "metadata": {},
   "outputs": [],
   "source": []
  },
  {
   "cell_type": "code",
   "execution_count": null,
   "metadata": {},
   "outputs": [],
   "source": [
    "import os\n",
    "import pandas as pd\n",
    "import numpy as np\n",
    "\n",
    "TRAIN_MERGE_LINEAR_PATH = 'C:/Users/js/Desktop/AISPRAK/사회문제 해결형/data/MERGE_LINEAR/'\n",
    "TRAIN_MERGE_POLYNOMIAL_PATH = 'C:/Users/js/Desktop/AISPRAK/사회문제 해결형/data/MERGE_POLYNOMIAL/'\n",
    "\n",
    "TRAIN_LINEAR_PATH = 'C:/Users/js/Desktop/AISPRAK/사회문제 해결형/data/TRAIN_LINEAR/'\n",
    "TRAIN_POLY_PATH = 'C:/Users/js/Desktop/AISPRAK/사회문제 해결형/data/TRAIN_POLYNOMIAL/'\n"
   ]
  },
  {
   "cell_type": "code",
   "execution_count": null,
   "metadata": {},
   "outputs": [],
   "source": [
    "\n",
    "place_lst = [\n",
    "    '공주',\n",
    "    '노은동',\n",
    "    '논산',\n",
    "    '대천2동',\n",
    "    '독곶리',\n",
    "    '동문동',\n",
    "    '모종동',\n",
    "    '문창동',\n",
    "    '성성동',\n",
    "    '신방동',\n",
    "    '신흥동',\n",
    "    '아름동',\n",
    "    '예산군',\n",
    "    '읍내동',\n",
    "    '이원면',\n",
    "    '정림동',\n",
    "    '홍성읍'\n",
    "    ]\n"
   ]
  },
  {
   "cell_type": "code",
   "execution_count": null,
   "metadata": {},
   "outputs": [],
   "source": [
    "df = pd.read_csv(TRAIN_MERGE_LINEAR_PATH+'final_merged.csv')\n",
    "df.drop(['date'], axis=1, inplace=True) # ,'PM2.5'\n",
    "df_all = df.copy()\n",
    "df_all.shape"
   ]
  },
  {
   "cell_type": "code",
   "execution_count": null,
   "metadata": {},
   "outputs": [],
   "source": [
    "for place in place_lst:\n",
    "    globals()['df_{}'.format(place)] = df_all[df_all['place_{}'.format(place)]==1]"
   ]
  },
  {
   "cell_type": "code",
   "execution_count": null,
   "metadata": {},
   "outputs": [],
   "source": [
    "timestep_input = 48\n",
    "timestep_output = 72"
   ]
  },
  {
   "cell_type": "code",
   "execution_count": null,
   "metadata": {},
   "outputs": [],
   "source": [
    "Encoder_X_lst = []\n",
    "\n",
    "\n",
    "for place in place_lst:\n",
    "\n",
    "    df = globals()['df_{}'.format(place)]\n",
    "    encoder_x = []\n",
    "\n",
    "    for i in range( 0, len(df) - timestep_output - timestep_input): \n",
    "        encoder_x.extend([df.iloc[i : i + timestep_input, :].values])\n",
    "\n",
    "Encoder_X = np.array(encoder_x)"
   ]
  },
  {
   "cell_type": "code",
   "execution_count": null,
   "metadata": {},
   "outputs": [],
   "source": [
    "Decoder_X_lst = []\n",
    "\n",
    "\n",
    "for place in place_lst:\n",
    "\n",
    "    df = globals()['df_{}'.format(place)]\n",
    "    decoder_x = []\n",
    "\n",
    "    for i in range( 0, len(df) - timestep_output - timestep_input ):\n",
    "        decoder_x.extend([df.iloc[i + timestep_input : i + timestep_input + timestep_output, 6:].values])\n",
    "        \n",
    "Decoder_X = np.array(decoder_x)"
   ]
  },
  {
   "cell_type": "code",
   "execution_count": null,
   "metadata": {},
   "outputs": [],
   "source": [
    "Decoder_Y_lst = []\n",
    "\n",
    "\n",
    "for place in place_lst:\n",
    "\n",
    "    df = globals()['df_{}'.format(place)]\n",
    "    decoder_y = []\n",
    "\n",
    "    for i in range( 0, len(df) - timestep_output - timestep_input ):\n",
    "        decoder_y.extend([df.iloc[i + timestep_input : i + timestep_input + timestep_output, 0].values.T])\n",
    "        \n",
    "Decoder_Y = np.array(decoder_y)"
   ]
  },
  {
   "cell_type": "code",
   "execution_count": null,
   "metadata": {},
   "outputs": [],
   "source": [
    "import joblib\n",
    "\n",
    "LINEAR = 'linear_'\n",
    "POLYNOMIAL = 'polynomial_'\n",
    "\n",
    "joblib.dump(Encoder_X,'C:/Users/js/Desktop/AISPRAK/사회문제 해결형/'+LINEAR+'encoder_x.pkl')\n",
    "joblib.dump(Decoder_Y,'C:/Users/js/Desktop/AISPRAK/사회문제 해결형/'+LINEAR+'y.pkl')\n",
    "joblib.dump(Decoder_X,'C:/Users/js/Desktop/AISPRAK/사회문제 해결형/'+LINEAR+'decoder_x.pkl')"
   ]
  }
 ],
 "metadata": {
  "kernelspec": {
   "display_name": "Python 3",
   "language": "python",
   "name": "python3"
  },
  "language_info": {
   "codemirror_mode": {
    "name": "ipython",
    "version": 3
   },
   "file_extension": ".py",
   "mimetype": "text/x-python",
   "name": "python",
   "nbconvert_exporter": "python",
   "pygments_lexer": "ipython3",
   "version": "3.10.7"
  },
  "orig_nbformat": 4
 },
 "nbformat": 4,
 "nbformat_minor": 2
}
